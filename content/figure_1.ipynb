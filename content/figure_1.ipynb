{
 "cells": [
  {
   "cell_type": "code",
   "execution_count": null,
   "id": "a50696ba-c9f6-4a94-b508-6e32bbc19b11",
   "metadata": {
    "tags": []
   },
   "outputs": [
    {
     "data": {
      "application/vnd.jupyter.widget-view+json": {
       "model_id": "b38ec49c07214deb8cc714e880980754",
       "version_major": 2,
       "version_minor": 0
      },
      "text/plain": [
       "HBox(children=(Dropdown(description='Base Session:', options=('V1', 'V2', 'V3'), value='V1'), Dropdown(descrip…"
      ]
     },
     "metadata": {},
     "output_type": "display_data"
    },
    {
     "data": {
      "application/vnd.jupyter.widget-view+json": {
       "model_id": "d4c9e035f71f4651a43d17f77b97926f",
       "version_major": 2,
       "version_minor": 0
      },
      "text/plain": [
       "HBox(children=(Dropdown(description='Overlay Session:', options=('V1', 'V2', 'V3'), value='V1'), Dropdown(desc…"
      ]
     },
     "metadata": {},
     "output_type": "display_data"
    },
    {
     "data": {
      "application/vnd.jupyter.widget-view+json": {
       "model_id": "53239fa9ce874752a237ffbf305cb737",
       "version_major": 2,
       "version_minor": 0
      },
      "text/plain": [
       "HBox(children=(Button(button_style='warning', description='🔄 Reset to Default', style=ButtonStyle()),))"
      ]
     },
     "metadata": {},
     "output_type": "display_data"
    },
    {
     "data": {
      "application/vnd.jupyter.widget-view+json": {
       "model_id": "e5a684f8344240c398bd92eaf3c9aafe",
       "version_major": 2,
       "version_minor": 0
      },
      "text/plain": [
       "Output()"
      ]
     },
     "metadata": {},
     "output_type": "display_data"
    }
   ],
   "source": [
    "#| label: fig1cell\n",
    "\n",
    "from Dash_client import DashNeuroTmapClient\n",
    "\n",
    "#     import nbformat\n",
    "import nbformat\n",
    "import requests\n",
    "import plotly.graph_objects as go\n",
    "import pandas as pd\n",
    "import json\n",
    "from IPython.display import display, HTML\n",
    "import ipywidgets as widgets\n",
    "from ipywidgets import interact, Dropdown, SelectMultiple, Checkbox\n",
    "from ipywidgets import HBox, VBox, GridBox, Layout\n",
    "import numpy as np\n",
    "from plotly.subplots import make_subplots\n",
    "import plotly.io as pio\n",
    "\n",
    "client = DashNeuroTmapClient()\n",
    "fig1 =client.create_advanced_interface()\n",
    "fig1.write_html(\"content/figure_1.html\", include_plotlyjs='cdn')\n",
    "\n",
    "\n",
    "# df = pd.read_csv(\"https://raw.githubusercontent.com/plotly/datasets/master/hobbs-pearson-trials.csv\")\n",
    "\n",
    "# fig = go.Figure()\n",
    "\n",
    "# fig.add_trace(go.Scatterpolargl(\n",
    "#       r = df.trial_1_r,\n",
    "#       theta = df.trial_1_theta,\n",
    "#       name = \"Trial 1\",\n",
    "#       marker=dict(size=15, color=\"mediumseagreen\")\n",
    "#     ))\n",
    "# fig.add_trace(go.Scatterpolargl(\n",
    "#       r = df.trial_2_r,\n",
    "#       theta = df.trial_2_theta,\n",
    "#       name = \"Trial 2\",\n",
    "#       marker=dict(size=20, color=\"darkorange\")\n",
    "#     ))\n",
    "# fig.add_trace(go.Scatterpolargl(\n",
    "#       r = df.trial_3_r,\n",
    "#       theta = df.trial_3_theta,\n",
    "#       name = \"Trial 3\",\n",
    "#       marker=dict(size=12, color=\"mediumpurple\")\n",
    "#     ))\n",
    "# fig.add_trace(go.Scatterpolargl(\n",
    "#       r = df.trial_4_r,\n",
    "#       theta = df.trial_4_theta,\n",
    "#       name = \"Trial 4\",\n",
    "#       marker=dict(size=22, color = \"magenta\")\n",
    "#     ))\n",
    "# fig.add_trace(go.Scatterpolargl(\n",
    "#       r = df.trial_5_r,\n",
    "#       theta = df.trial_5_theta,\n",
    "#       name = \"Trial 5\",\n",
    "#       marker=dict(size=19, color = \"limegreen\")\n",
    "#       ))\n",
    "# fig.add_trace(go.Scatterpolargl(\n",
    "#       r = df.trial_6_r,\n",
    "#       theta = df.trial_6_theta,\n",
    "#       name = \"Trial 6\",\n",
    "#       marker=dict(size=10, color = \"gold\")\n",
    "#       ))\n",
    "\n",
    "# # Common parameters for all traces\n",
    "# fig.update_traces(mode=\"markers\", marker=dict(line_color='white', opacity=0.7))\n",
    "\n",
    "# fig.update_layout(\n",
    "#     title = \"Hobbs-Pearson Trials\",\n",
    "#     font_size = 15,\n",
    "#     showlegend = False,\n",
    "#     margin=dict(l=0, r=0, t=35, b=10),\n",
    "#     polar = dict(\n",
    "#       bgcolor = \"rgb(223, 223, 223)\",\n",
    "#       angularaxis = dict(\n",
    "#         linewidth = 3,\n",
    "#         showline=True,\n",
    "#         linecolor='black'\n",
    "#       ),\n",
    "#       radialaxis = dict(\n",
    "#         side = \"counterclockwise\",\n",
    "#         showline = True,\n",
    "#         linewidth = 2,\n",
    "#         gridcolor = \"white\",\n",
    "#         gridwidth = 2,\n",
    "#       )\n",
    "#     ),\n",
    "#     paper_bgcolor = \"rgb(223, 223, 223)\"\n",
    "# )\n",
    "\n",
    "# fig.show()"
   ]
  },
  {
   "cell_type": "code",
   "execution_count": null,
   "id": "07df9858-429c-42ae-91f7-dc0bb2292aec",
   "metadata": {},
   "outputs": [],
   "source": []
  }
 ],
 "metadata": {
  "kernelspec": {
   "display_name": "AVC",
   "language": "python",
   "name": "python3"
  },
  "language_info": {
   "codemirror_mode": {
    "name": "ipython",
    "version": 3
   },
   "file_extension": ".py",
   "mimetype": "text/x-python",
   "name": "python",
   "nbconvert_exporter": "python",
   "pygments_lexer": "ipython3",
   "version": "3.12.1"
  }
 },
 "nbformat": 4,
 "nbformat_minor": 5
}
