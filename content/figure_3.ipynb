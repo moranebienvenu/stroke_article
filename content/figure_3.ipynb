{
 "cells": [
  {
   "cell_type": "code",
   "execution_count": 1,
   "metadata": {},
   "outputs": [
    {
     "data": {
      "application/vnd.plotly.v1+json": {
       "config": {
        "plotlyServerURL": "https://plot.ly"
       },
       "data": [
        {
         "hovertemplate": "<b>%{theta}</b><br>%{r:.2f}%<extra></extra>",
         "legendgroup": "Session V1",
         "marker": {
          "color": [
           "lightskyblue",
           "lightskyblue",
           "lightskyblue",
           "lightskyblue",
           "lightskyblue",
           "lightskyblue",
           "lightskyblue",
           "lightskyblue",
           "lightskyblue",
           "lightskyblue",
           "lightskyblue",
           "lightskyblue",
           "lightskyblue"
          ]
         },
         "name": "Session V1",
         "r": [
          1.3899188584255877,
          0.9559335081357713,
          1.5009233549538767,
          1.4200749681606115,
          1.6517960658032218,
          1.498951267483338,
          1.2316078921450584,
          0.8278085945838785,
          0.9386421052945062,
          0.8236450794246023,
          1.399565260651527,
          1.162783091559596,
          2.539785328021888
         ],
         "showlegend": true,
         "subplot": "polar",
         "theta": [
          "A4B2",
          "M1",
          "VAChT",
          "D1",
          "D2",
          "DAT",
          "Nor",
          "5HT1a",
          "5HT1b",
          "5HT2a",
          "5HT4",
          "5HT6",
          "5HTT"
         ],
         "type": "barpolar",
         "width": 0.7853981633974483
        },
        {
         "base": 0,
         "hovertemplate": "<b>%{theta}</b><br>%{r:.2f}%<extra></extra>",
         "legendgroup": "Session V3",
         "marker": {
          "color": [
           "hsla(347, 80%, 50%, 0.5)",
           "hsla(347, 80%, 50%, 0.5)",
           "hsla(347, 80%, 50%, 0.5)",
           "hsla(347, 80%, 50%, 0.5)",
           "hsla(347, 80%, 50%, 0.5)",
           "hsla(347, 80%, 50%, 0.5)",
           "hsla(347, 80%, 50%, 0.5)",
           "hsla(347, 80%, 50%, 0.5)",
           "hsla(347, 80%, 50%, 0.5)",
           "hsla(347, 80%, 50%, 0.5)",
           "hsla(347, 80%, 50%, 0.5)",
           "hsla(347, 80%, 50%, 0.5)",
           "hsla(347, 80%, 50%, 0.5)"
          ]
         },
         "name": "Session V3",
         "r": [
          1.8072827863082372,
          1.4623865512219798,
          2.0717995539577765,
          2.1156167378320383,
          2.304056602471924,
          2.0803538371300596,
          1.7017352581134226,
          1.4188184084379374,
          1.4287616600680833,
          1.3108146555179476,
          2.1960304775922994,
          1.6666936457180388,
          3.4325233852532353
         ],
         "showlegend": true,
         "subplot": "polar",
         "theta": [
          "A4B2",
          "M1",
          "VAChT",
          "D1",
          "D2",
          "DAT",
          "Nor",
          "5HT1a",
          "5HT1b",
          "5HT2a",
          "5HT4",
          "5HT6",
          "5HTT"
         ],
         "type": "barpolar",
         "width": 0.7853981633974483
        },
        {
         "hovertemplate": "<b>%{theta}</b><br>%{r:.2f}%<extra></extra>",
         "legendgroup": "Session V1",
         "marker": {
          "color": [
           "lightskyblue",
           "lightskyblue",
           "lightskyblue",
           "lightskyblue",
           "lightskyblue",
           "lightskyblue",
           "lightskyblue",
           "lightskyblue",
           "lightskyblue",
           "lightskyblue",
           "lightskyblue",
           "lightskyblue",
           "lightskyblue"
          ]
         },
         "name": "Session V1",
         "r": [
          1.506344784629587,
          1.4182862634045377,
          1.455440862362462,
          1.3754753450748747,
          1.4744143736799589,
          1.4626343689223307,
          1.7215392700643037,
          1.553574519080252,
          1.5706880454595706,
          1.5025052920082862,
          1.4751739090208202,
          1.4644911016326607,
          1.7263653522724343
         ],
         "showlegend": false,
         "subplot": "polar2",
         "theta": [
          "A4B2",
          "M1",
          "VAChT",
          "D1",
          "D2",
          "DAT",
          "Nor",
          "5HT1a",
          "5HT1b",
          "5HT2a",
          "5HT4",
          "5HT6",
          "5HTT"
         ],
         "type": "barpolar",
         "width": 0.7853981633974483
        },
        {
         "base": 0,
         "hovertemplate": "<b>%{theta}</b><br>%{r:.2f}%<extra></extra>",
         "legendgroup": "Session V3",
         "marker": {
          "color": [
           "hsla(347, 80%, 50%, 0.5)",
           "hsla(347, 80%, 50%, 0.5)",
           "hsla(347, 80%, 50%, 0.5)",
           "hsla(347, 80%, 50%, 0.5)",
           "hsla(347, 80%, 50%, 0.5)",
           "hsla(347, 80%, 50%, 0.5)",
           "hsla(347, 80%, 50%, 0.5)",
           "hsla(347, 80%, 50%, 0.5)",
           "hsla(347, 80%, 50%, 0.5)",
           "hsla(347, 80%, 50%, 0.5)",
           "hsla(347, 80%, 50%, 0.5)",
           "hsla(347, 80%, 50%, 0.5)",
           "hsla(347, 80%, 50%, 0.5)"
          ]
         },
         "name": "Session V3",
         "r": [
          1.8799230256336197,
          1.8889985761369186,
          1.8614580106071572,
          1.779907203787549,
          1.8574598174237995,
          1.8470624904321333,
          2.1275890655742558,
          2.0262820615285686,
          1.968674143373308,
          1.9094969725270114,
          1.8556546180468525,
          1.8223471548305712,
          2.046230047006274
         ],
         "showlegend": false,
         "subplot": "polar2",
         "theta": [
          "A4B2",
          "M1",
          "VAChT",
          "D1",
          "D2",
          "DAT",
          "Nor",
          "5HT1a",
          "5HT1b",
          "5HT2a",
          "5HT4",
          "5HT6",
          "5HTT"
         ],
         "type": "barpolar",
         "width": 0.7853981633974483
        },
        {
         "hovertemplate": "<b>%{theta}</b><br>%{r:.2f}<extra></extra>",
         "legendgroup": "Session V1",
         "marker": {
          "color": [
           "lightskyblue",
           "lightskyblue",
           "lightskyblue",
           "lightskyblue",
           "lightskyblue",
           "lightskyblue",
           "lightskyblue",
           "lightskyblue",
           "lightskyblue",
           "rgba(135, 206, 250, 0.3)",
           "rgba(135, 206, 250, 0.3)",
           "rgba(135, 206, 250, 0.3)"
          ]
         },
         "name": "Session V1",
         "r": [
          0.0059040856383253,
          0.008791251040081542,
          0.03535393672100014,
          0.016059973761667897,
          0.16080698142450656,
          0.12099099583607273,
          0.1319884925337095,
          0.2840035660919681,
          0.1762534122639071,
          -0.0009861710779429627,
          -0.021772972842460832,
          -0.15762229034453012
         ],
         "showlegend": false,
         "subplot": "polar3",
         "theta": [
          "pre A4B2",
          "pre M1",
          "pre D1",
          "pre D2",
          "pre 5HT1a",
          "pre 5HT1b",
          "pre 5HT2a",
          "pre 5HT4",
          "pre 5HT6",
          "post VAChT",
          "post DAT",
          "post 5HTT"
         ],
         "type": "barpolar",
         "width": 0.7853981633974483
        },
        {
         "base": 0,
         "hovertemplate": "<b>%{theta}</b><br>%{r:.2f}<extra></extra>",
         "legendgroup": "Session V3",
         "marker": {
          "color": [
           "hsla(347, 80%, 50%, 0.5)",
           "hsla(347, 80%, 50%, 0.5)",
           "hsla(347, 80%, 50%, 0.5)",
           "hsla(347, 80%, 50%, 0.2)",
           "hsla(347, 80%, 50%, 0.5)",
           "hsla(347, 80%, 50%, 0.5)",
           "hsla(347, 80%, 50%, 0.5)",
           "hsla(347, 80%, 50%, 0.5)",
           "hsla(347, 80%, 50%, 0.5)",
           "hsla(347, 80%, 50%, 0.2)",
           "hsla(347, 80%, 50%, 0.2)",
           "hsla(347, 80%, 50%, 0.2)"
          ]
         },
         "name": "Session V3",
         "r": [
          0.06262743756737403,
          0.009552062643228994,
          0.03207553814758981,
          -0.011735782255744464,
          0.13663113690959658,
          0.15808233449958173,
          0.1507682182451082,
          0.20687090598043723,
          0.19467778254071633,
          -0.03297266335220161,
          -0.005834317363370863,
          -0.15606221836695278
         ],
         "showlegend": false,
         "subplot": "polar3",
         "theta": [
          "pre A4B2",
          "pre M1",
          "pre D1",
          "pre D2",
          "pre 5HT1a",
          "pre 5HT1b",
          "pre 5HT2a",
          "pre 5HT4",
          "pre 5HT6",
          "post VAChT",
          "post DAT",
          "post 5HTT"
         ],
         "type": "barpolar",
         "width": 0.7853981633974483
        }
       ],
       "layout": {
        "annotations": [
         {
          "font": {
           "color": "black",
           "size": 10
          },
          "showarrow": false,
          "text": "<b>Receptor/transporter lesion</b>",
          "x": 0.15,
          "xanchor": "center",
          "xref": "paper",
          "y": 1.15,
          "yanchor": "bottom",
          "yref": "paper"
         },
         {
          "font": {
           "color": "black",
           "size": 10
          },
          "showarrow": false,
          "text": "<b>Receptor/transporter disconnection </b>",
          "x": 0.49999999999999994,
          "xanchor": "center",
          "xref": "paper",
          "y": 1.15,
          "yanchor": "bottom",
          "yref": "paper"
         },
         {
          "font": {
           "color": "black",
           "size": 10
          },
          "showarrow": false,
          "text": "<b>Pre/post synaptic ratios </b>",
          "x": 0.85,
          "xanchor": "center",
          "xref": "paper",
          "y": 1.15,
          "yanchor": "bottom",
          "yref": "paper"
         }
        ],
        "height": 320,
        "hovermode": "closest",
        "legend": {
         "orientation": "h",
         "x": 0.5,
         "xanchor": "center",
         "y": -0.15,
         "yanchor": "top"
        },
        "polar": {
         "angularaxis": {
          "direction": "clockwise",
          "rotation": 90
         },
         "bargap": 0.1,
         "domain": {
          "x": [
           0,
           0.32
          ],
          "y": [
           0.1,
           0.9
          ]
         },
         "radialaxis": {
          "ticksuffix": "%"
         }
        },
        "polar2": {
         "angularaxis": {
          "direction": "clockwise",
          "rotation": 90
         },
         "bargap": 0.1,
         "domain": {
          "x": [
           0.34,
           0.66
          ],
          "y": [
           0.1,
           0.9
          ]
         },
         "radialaxis": {
          "ticksuffix": "%"
         }
        },
        "polar3": {
         "angularaxis": {
          "direction": "clockwise",
          "rotation": 90
         },
         "bargap": 0.1,
         "domain": {
          "x": [
           0.66,
           1
          ],
          "y": [
           0.1,
           0.9
          ]
         },
         "radialaxis": {
          "range": [
           -1,
           1
          ]
         }
        },
        "showlegend": true,
        "template": {
         "data": {
          "bar": [
           {
            "error_x": {
             "color": "#2a3f5f"
            },
            "error_y": {
             "color": "#2a3f5f"
            },
            "marker": {
             "line": {
              "color": "#E5ECF6",
              "width": 0.5
             },
             "pattern": {
              "fillmode": "overlay",
              "size": 10,
              "solidity": 0.2
             }
            },
            "type": "bar"
           }
          ],
          "barpolar": [
           {
            "marker": {
             "line": {
              "color": "#E5ECF6",
              "width": 0.5
             },
             "pattern": {
              "fillmode": "overlay",
              "size": 10,
              "solidity": 0.2
             }
            },
            "type": "barpolar"
           }
          ],
          "carpet": [
           {
            "aaxis": {
             "endlinecolor": "#2a3f5f",
             "gridcolor": "white",
             "linecolor": "white",
             "minorgridcolor": "white",
             "startlinecolor": "#2a3f5f"
            },
            "baxis": {
             "endlinecolor": "#2a3f5f",
             "gridcolor": "white",
             "linecolor": "white",
             "minorgridcolor": "white",
             "startlinecolor": "#2a3f5f"
            },
            "type": "carpet"
           }
          ],
          "choropleth": [
           {
            "colorbar": {
             "outlinewidth": 0,
             "ticks": ""
            },
            "type": "choropleth"
           }
          ],
          "contour": [
           {
            "colorbar": {
             "outlinewidth": 0,
             "ticks": ""
            },
            "colorscale": [
             [
              0,
              "#0d0887"
             ],
             [
              0.1111111111111111,
              "#46039f"
             ],
             [
              0.2222222222222222,
              "#7201a8"
             ],
             [
              0.3333333333333333,
              "#9c179e"
             ],
             [
              0.4444444444444444,
              "#bd3786"
             ],
             [
              0.5555555555555556,
              "#d8576b"
             ],
             [
              0.6666666666666666,
              "#ed7953"
             ],
             [
              0.7777777777777778,
              "#fb9f3a"
             ],
             [
              0.8888888888888888,
              "#fdca26"
             ],
             [
              1,
              "#f0f921"
             ]
            ],
            "type": "contour"
           }
          ],
          "contourcarpet": [
           {
            "colorbar": {
             "outlinewidth": 0,
             "ticks": ""
            },
            "type": "contourcarpet"
           }
          ],
          "heatmap": [
           {
            "colorbar": {
             "outlinewidth": 0,
             "ticks": ""
            },
            "colorscale": [
             [
              0,
              "#0d0887"
             ],
             [
              0.1111111111111111,
              "#46039f"
             ],
             [
              0.2222222222222222,
              "#7201a8"
             ],
             [
              0.3333333333333333,
              "#9c179e"
             ],
             [
              0.4444444444444444,
              "#bd3786"
             ],
             [
              0.5555555555555556,
              "#d8576b"
             ],
             [
              0.6666666666666666,
              "#ed7953"
             ],
             [
              0.7777777777777778,
              "#fb9f3a"
             ],
             [
              0.8888888888888888,
              "#fdca26"
             ],
             [
              1,
              "#f0f921"
             ]
            ],
            "type": "heatmap"
           }
          ],
          "histogram": [
           {
            "marker": {
             "pattern": {
              "fillmode": "overlay",
              "size": 10,
              "solidity": 0.2
             }
            },
            "type": "histogram"
           }
          ],
          "histogram2d": [
           {
            "colorbar": {
             "outlinewidth": 0,
             "ticks": ""
            },
            "colorscale": [
             [
              0,
              "#0d0887"
             ],
             [
              0.1111111111111111,
              "#46039f"
             ],
             [
              0.2222222222222222,
              "#7201a8"
             ],
             [
              0.3333333333333333,
              "#9c179e"
             ],
             [
              0.4444444444444444,
              "#bd3786"
             ],
             [
              0.5555555555555556,
              "#d8576b"
             ],
             [
              0.6666666666666666,
              "#ed7953"
             ],
             [
              0.7777777777777778,
              "#fb9f3a"
             ],
             [
              0.8888888888888888,
              "#fdca26"
             ],
             [
              1,
              "#f0f921"
             ]
            ],
            "type": "histogram2d"
           }
          ],
          "histogram2dcontour": [
           {
            "colorbar": {
             "outlinewidth": 0,
             "ticks": ""
            },
            "colorscale": [
             [
              0,
              "#0d0887"
             ],
             [
              0.1111111111111111,
              "#46039f"
             ],
             [
              0.2222222222222222,
              "#7201a8"
             ],
             [
              0.3333333333333333,
              "#9c179e"
             ],
             [
              0.4444444444444444,
              "#bd3786"
             ],
             [
              0.5555555555555556,
              "#d8576b"
             ],
             [
              0.6666666666666666,
              "#ed7953"
             ],
             [
              0.7777777777777778,
              "#fb9f3a"
             ],
             [
              0.8888888888888888,
              "#fdca26"
             ],
             [
              1,
              "#f0f921"
             ]
            ],
            "type": "histogram2dcontour"
           }
          ],
          "mesh3d": [
           {
            "colorbar": {
             "outlinewidth": 0,
             "ticks": ""
            },
            "type": "mesh3d"
           }
          ],
          "parcoords": [
           {
            "line": {
             "colorbar": {
              "outlinewidth": 0,
              "ticks": ""
             }
            },
            "type": "parcoords"
           }
          ],
          "pie": [
           {
            "automargin": true,
            "type": "pie"
           }
          ],
          "scatter": [
           {
            "fillpattern": {
             "fillmode": "overlay",
             "size": 10,
             "solidity": 0.2
            },
            "type": "scatter"
           }
          ],
          "scatter3d": [
           {
            "line": {
             "colorbar": {
              "outlinewidth": 0,
              "ticks": ""
             }
            },
            "marker": {
             "colorbar": {
              "outlinewidth": 0,
              "ticks": ""
             }
            },
            "type": "scatter3d"
           }
          ],
          "scattercarpet": [
           {
            "marker": {
             "colorbar": {
              "outlinewidth": 0,
              "ticks": ""
             }
            },
            "type": "scattercarpet"
           }
          ],
          "scattergeo": [
           {
            "marker": {
             "colorbar": {
              "outlinewidth": 0,
              "ticks": ""
             }
            },
            "type": "scattergeo"
           }
          ],
          "scattergl": [
           {
            "marker": {
             "colorbar": {
              "outlinewidth": 0,
              "ticks": ""
             }
            },
            "type": "scattergl"
           }
          ],
          "scattermap": [
           {
            "marker": {
             "colorbar": {
              "outlinewidth": 0,
              "ticks": ""
             }
            },
            "type": "scattermap"
           }
          ],
          "scattermapbox": [
           {
            "marker": {
             "colorbar": {
              "outlinewidth": 0,
              "ticks": ""
             }
            },
            "type": "scattermapbox"
           }
          ],
          "scatterpolar": [
           {
            "marker": {
             "colorbar": {
              "outlinewidth": 0,
              "ticks": ""
             }
            },
            "type": "scatterpolar"
           }
          ],
          "scatterpolargl": [
           {
            "marker": {
             "colorbar": {
              "outlinewidth": 0,
              "ticks": ""
             }
            },
            "type": "scatterpolargl"
           }
          ],
          "scatterternary": [
           {
            "marker": {
             "colorbar": {
              "outlinewidth": 0,
              "ticks": ""
             }
            },
            "type": "scatterternary"
           }
          ],
          "surface": [
           {
            "colorbar": {
             "outlinewidth": 0,
             "ticks": ""
            },
            "colorscale": [
             [
              0,
              "#0d0887"
             ],
             [
              0.1111111111111111,
              "#46039f"
             ],
             [
              0.2222222222222222,
              "#7201a8"
             ],
             [
              0.3333333333333333,
              "#9c179e"
             ],
             [
              0.4444444444444444,
              "#bd3786"
             ],
             [
              0.5555555555555556,
              "#d8576b"
             ],
             [
              0.6666666666666666,
              "#ed7953"
             ],
             [
              0.7777777777777778,
              "#fb9f3a"
             ],
             [
              0.8888888888888888,
              "#fdca26"
             ],
             [
              1,
              "#f0f921"
             ]
            ],
            "type": "surface"
           }
          ],
          "table": [
           {
            "cells": {
             "fill": {
              "color": "#EBF0F8"
             },
             "line": {
              "color": "white"
             }
            },
            "header": {
             "fill": {
              "color": "#C8D4E3"
             },
             "line": {
              "color": "white"
             }
            },
            "type": "table"
           }
          ]
         },
         "layout": {
          "annotationdefaults": {
           "arrowcolor": "#2a3f5f",
           "arrowhead": 0,
           "arrowwidth": 1
          },
          "autotypenumbers": "strict",
          "coloraxis": {
           "colorbar": {
            "outlinewidth": 0,
            "ticks": ""
           }
          },
          "colorscale": {
           "diverging": [
            [
             0,
             "#8e0152"
            ],
            [
             0.1,
             "#c51b7d"
            ],
            [
             0.2,
             "#de77ae"
            ],
            [
             0.3,
             "#f1b6da"
            ],
            [
             0.4,
             "#fde0ef"
            ],
            [
             0.5,
             "#f7f7f7"
            ],
            [
             0.6,
             "#e6f5d0"
            ],
            [
             0.7,
             "#b8e186"
            ],
            [
             0.8,
             "#7fbc41"
            ],
            [
             0.9,
             "#4d9221"
            ],
            [
             1,
             "#276419"
            ]
           ],
           "sequential": [
            [
             0,
             "#0d0887"
            ],
            [
             0.1111111111111111,
             "#46039f"
            ],
            [
             0.2222222222222222,
             "#7201a8"
            ],
            [
             0.3333333333333333,
             "#9c179e"
            ],
            [
             0.4444444444444444,
             "#bd3786"
            ],
            [
             0.5555555555555556,
             "#d8576b"
            ],
            [
             0.6666666666666666,
             "#ed7953"
            ],
            [
             0.7777777777777778,
             "#fb9f3a"
            ],
            [
             0.8888888888888888,
             "#fdca26"
            ],
            [
             1,
             "#f0f921"
            ]
           ],
           "sequentialminus": [
            [
             0,
             "#0d0887"
            ],
            [
             0.1111111111111111,
             "#46039f"
            ],
            [
             0.2222222222222222,
             "#7201a8"
            ],
            [
             0.3333333333333333,
             "#9c179e"
            ],
            [
             0.4444444444444444,
             "#bd3786"
            ],
            [
             0.5555555555555556,
             "#d8576b"
            ],
            [
             0.6666666666666666,
             "#ed7953"
            ],
            [
             0.7777777777777778,
             "#fb9f3a"
            ],
            [
             0.8888888888888888,
             "#fdca26"
            ],
            [
             1,
             "#f0f921"
            ]
           ]
          },
          "colorway": [
           "#636efa",
           "#EF553B",
           "#00cc96",
           "#ab63fa",
           "#FFA15A",
           "#19d3f3",
           "#FF6692",
           "#B6E880",
           "#FF97FF",
           "#FECB52"
          ],
          "font": {
           "color": "#2a3f5f"
          },
          "geo": {
           "bgcolor": "white",
           "lakecolor": "white",
           "landcolor": "#E5ECF6",
           "showlakes": true,
           "showland": true,
           "subunitcolor": "white"
          },
          "hoverlabel": {
           "align": "left"
          },
          "hovermode": "closest",
          "mapbox": {
           "style": "light"
          },
          "paper_bgcolor": "white",
          "plot_bgcolor": "#E5ECF6",
          "polar": {
           "angularaxis": {
            "gridcolor": "white",
            "linecolor": "white",
            "ticks": ""
           },
           "bgcolor": "#E5ECF6",
           "radialaxis": {
            "gridcolor": "white",
            "linecolor": "white",
            "ticks": ""
           }
          },
          "scene": {
           "xaxis": {
            "backgroundcolor": "#E5ECF6",
            "gridcolor": "white",
            "gridwidth": 2,
            "linecolor": "white",
            "showbackground": true,
            "ticks": "",
            "zerolinecolor": "white"
           },
           "yaxis": {
            "backgroundcolor": "#E5ECF6",
            "gridcolor": "white",
            "gridwidth": 2,
            "linecolor": "white",
            "showbackground": true,
            "ticks": "",
            "zerolinecolor": "white"
           },
           "zaxis": {
            "backgroundcolor": "#E5ECF6",
            "gridcolor": "white",
            "gridwidth": 2,
            "linecolor": "white",
            "showbackground": true,
            "ticks": "",
            "zerolinecolor": "white"
           }
          },
          "shapedefaults": {
           "line": {
            "color": "#2a3f5f"
           }
          },
          "ternary": {
           "aaxis": {
            "gridcolor": "white",
            "linecolor": "white",
            "ticks": ""
           },
           "baxis": {
            "gridcolor": "white",
            "linecolor": "white",
            "ticks": ""
           },
           "bgcolor": "#E5ECF6",
           "caxis": {
            "gridcolor": "white",
            "linecolor": "white",
            "ticks": ""
           }
          },
          "title": {
           "x": 0.05
          },
          "xaxis": {
           "automargin": true,
           "gridcolor": "white",
           "linecolor": "white",
           "ticks": "",
           "title": {
            "standoff": 15
           },
           "zerolinecolor": "white",
           "zerolinewidth": 2
          },
          "yaxis": {
           "automargin": true,
           "gridcolor": "white",
           "linecolor": "white",
           "ticks": "",
           "title": {
            "standoff": 15
           },
           "zerolinecolor": "white",
           "zerolinewidth": 2
          }
         }
        },
        "width": 800
       }
      }
     },
     "metadata": {},
     "output_type": "display_data"
    },
    {
     "data": {
      "application/vnd.jupyter.widget-view+json": {
       "model_id": "618566924b504ee99d15ee18e0ce7fbd",
       "version_major": 2,
       "version_minor": 0
      },
      "text/plain": [
       "VBox(children=(HBox(children=(Dropdown(description='Base Session:', options=('V1', 'V2', 'V3'), value='V1'), D…"
      ]
     },
     "execution_count": 1,
     "metadata": {},
     "output_type": "execute_result"
    }
   ],
   "source": [
    "#| label: fig4cell\n",
    "from Dash_client import DashNeuroTmapClient\n",
    "import plotly.io as pio\n",
    "pio.renderers.default = \"plotly_mimetype\"\n",
    "\n",
    "client = DashNeuroTmapClient(dash_url=\"https://stroke-dashboard.onrender.com\")\n",
    "client.create_advanced_interface('V1', 'all', 'V3', 'all')\n",
    "\n"
   ]
  }
 ],
 "metadata": {
  "kernelspec": {
   "display_name": "AVC",
   "language": "python",
   "name": "python3"
  },
  "language_info": {
   "codemirror_mode": {
    "name": "ipython",
    "version": 3
   },
   "file_extension": ".py",
   "mimetype": "text/x-python",
   "name": "python",
   "nbconvert_exporter": "python",
   "pygments_lexer": "ipython3",
   "version": "3.12.1"
  }
 },
 "nbformat": 4,
 "nbformat_minor": 2
}
