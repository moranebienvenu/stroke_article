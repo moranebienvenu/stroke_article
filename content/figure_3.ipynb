{
 "cells": [
  {
   "cell_type": "code",
   "execution_count": null,
   "metadata": {
    "vscode": {
     "languageId": "plaintext"
    }
   },
   "outputs": [],
   "source": [
    "#| label: fig3cell\n",
    "\n",
    "from Dash_client import DashNeuroTmapClient\n",
    "import plotly.io as pio\n",
    "pio.renderers.default = \"plotly_mimetype\"\n",
    "\n",
    "client = DashNeuroTmapClient(dash_url=\"https://stroke-dashboard.onrender.com\")\n",
    "fig3 = client.create_interactive_correlation_interface_auto\n",
    "\n",
    "# Pour MyST, affichez simplement la figure\n",
    "fig3"
   ]
  }
 ],
 "metadata": {
  "language_info": {
   "name": "python"
  }
 },
 "nbformat": 4,
 "nbformat_minor": 2
}
