{
 "cells": [
  {
   "cell_type": "code",
   "execution_count": null,
   "id": "73e02d32-c536-4992-81a2-7739aa24395e",
   "metadata": {},
   "outputs": [
    {
     "name": "stdout",
     "output_type": "stream",
     "text": [
      "⏳ Loading data for V1 - Synaptic ratio...\n",
      "✅ Data loaded successfully\n"
     ]
    },
    {
     "data": {
      "application/vnd.plotly.v1+json": {
       "config": {
        "plotlyServerURL": "https://plot.ly"
       },
       "data": [
        {
         "colorscale": [
          [
           0,
           "rgb(5,48,97)"
          ],
          [
           0.1,
           "rgb(33,102,172)"
          ],
          [
           0.2,
           "rgb(67,147,195)"
          ],
          [
           0.3,
           "rgb(146,197,222)"
          ],
          [
           0.4,
           "rgb(209,229,240)"
          ],
          [
           0.5,
           "rgb(247,247,247)"
          ],
          [
           0.6,
           "rgb(253,219,199)"
          ],
          [
           0.7,
           "rgb(244,165,130)"
          ],
          [
           0.8,
           "rgb(214,96,77)"
          ],
          [
           0.9,
           "rgb(178,24,43)"
          ],
          [
           1,
           "rgb(103,0,31)"
          ]
         ],
         "hovertemplate": "Variable X: %{x}<br>Variable Y: %{y}<br>Correlation: %{text}<br><extra></extra>",
         "showscale": false,
         "text": {
          "bdata": "AAAAAAAA8D/hehSuR+HKP8P1KFyPwtW/uB6F61G4zr8pXI/C9Si8P5qZmZmZmak/7FG4HoXrwT+kcD0K16PAv5qZmZmZmak/w/UoXI/C1b+kcD0K16PQP7gehetRuK6/4XoUrkfhyj8AAAAAAADwP3sUrkfhepS/hetRuB6F479SuB6F61HoP+F6FK5H4eo/MzMzMzMz6z/hehSuR+HaPwrXo3A9Cuc/XI/C9Shc7789CtejcD3aP0jhehSuR+m/w/UoXI/C1b97FK5H4XqUvwAAAAAAAPA/KVyPwvUo3D8K16NwPQrHv3sUrkfheoS/7FG4HoXrwb+4HoXrUbi+P1K4HoXrUci/exSuR+F6pD89CtejcD3qv3sUrkfherQ/uB6F61G4zr+F61G4HoXjvylcj8L1KNw/AAAAAAAA8D+amZmZmZnhvylcj8L1KOS/H4XrUbge5b/hehSuR+HKv3sUrkfheuS/exSuR+F65D89CtejcD3qv4/C9Shcj+I/KVyPwvUovD9SuB6F61HoPwrXo3A9Cse/mpmZmZmZ4b8AAAAAAADwPzMzMzMzM+s/w/UoXI/C7T9mZmZmZmbmPx+F61G4Hu0/XI/C9Shc57/hehSuR+HaP2ZmZmZmZu6/mpmZmZmZqT/hehSuR+HqP3sUrkfheoS/KVyPwvUo5L8zMzMzMzPrPwAAAAAAAPA/uB6F61G47j9SuB6F61HgP3E9CtejcO0/7FG4HoXr6b+amZmZmZnZP2ZmZmZmZu6/7FG4HoXrwT8zMzMzMzPrP+xRuB6F68G/H4XrUbge5b/D9Shcj8LtP7gehetRuO4/AAAAAAAA8D8fhetRuB7lP2ZmZmZmZu4/j8L1KFyP6r/NzMzMzMzcP1yPwvUoXO+/pHA9CtejwL/hehSuR+HaP7gehetRuL4/4XoUrkfhyr9mZmZmZmbmP1K4HoXrUeA/H4XrUbge5T8AAAAAAADwPx+F61G4HuU/9ihcj8L12L+4HoXrUbiuP65H4XoUrue/mpmZmZmZqT8K16NwPQrnP1K4HoXrUci/exSuR+F65L8fhetRuB7tP3E9CtejcO0/ZmZmZmZm7j8fhetRuB7lPwAAAAAAAPA/ZmZmZmZm5r+4HoXrUbjePwrXo3A9Cu+/w/UoXI/C1b9cj8L1KFzvv3sUrkfheqQ/exSuR+F65D9cj8L1KFznv+xRuB6F6+m/j8L1KFyP6r/2KFyPwvXYv2ZmZmZmZua/AAAAAAAA8D89CtejcD3av1K4HoXrUeg/pHA9Ctej0D89CtejcD3aPz0K16NwPeq/PQrXo3A96r/hehSuR+HaP5qZmZmZmdk/zczMzMzM3D+4HoXrUbiuP7gehetRuN4/PQrXo3A92r8AAAAAAADwP1K4HoXrUdi/uB6F61G4rr9I4XoUrkfpv3sUrkfherQ/j8L1KFyP4j9mZmZmZmbuv2ZmZmZmZu6/XI/C9Shc77+uR+F6FK7nvwrXo3A9Cu+/UrgehetR6D9SuB6F61HYvwAAAAAAAPA/",
          "dtype": "f8",
          "shape": "12, 12"
         },
         "textfont": {
          "size": 10
         },
         "texttemplate": "%{text}",
         "type": "heatmap",
         "x": [
          "pre_A4B2",
          "pre_M1",
          "pre_D1",
          "pre_D2",
          "pre_5HT1a",
          "pre_5HT1b",
          "pre_5HT2a",
          "pre_5HT4",
          "pre_5HT6",
          "post_VAChT",
          "post_DAT",
          "post_5HTT"
         ],
         "xaxis": "x",
         "y": [
          "pre_A4B2",
          "pre_M1",
          "pre_D1",
          "pre_D2",
          "pre_5HT1a",
          "pre_5HT1b",
          "pre_5HT2a",
          "pre_5HT4",
          "pre_5HT6",
          "post_VAChT",
          "post_DAT",
          "post_5HTT"
         ],
         "yaxis": "y",
         "z": [
          [
           1,
           null,
           null,
           null,
           null,
           null,
           null,
           null,
           null,
           null,
           null,
           null
          ],
          [
           null,
           1,
           null,
           -0.6146,
           0.7579,
           0.8415,
           0.851,
           0.4237,
           0.7239,
           -0.981,
           0.4093,
           -0.7887
          ],
          [
           null,
           null,
           1,
           0.4354,
           null,
           null,
           null,
           null,
           null,
           null,
           -0.8192,
           null
          ],
          [
           null,
           -0.6146,
           0.4354,
           1,
           -0.5486,
           -0.6322,
           -0.6571,
           null,
           -0.6423,
           0.6352,
           -0.8237,
           0.5765
          ],
          [
           null,
           0.7579,
           null,
           -0.5486,
           1,
           0.8538,
           0.9304,
           0.7036,
           0.9095,
           -0.7296,
           0.4209,
           -0.9451
          ],
          [
           null,
           0.8415,
           null,
           -0.6322,
           0.8538,
           1,
           0.9591,
           0.5083,
           0.9196,
           -0.8105,
           0.3953,
           -0.9504
          ],
          [
           null,
           0.851,
           null,
           -0.6571,
           0.9304,
           0.9591,
           1,
           0.6593,
           0.9468,
           -0.8314,
           0.4488,
           -0.9773
          ],
          [
           null,
           0.4237,
           null,
           null,
           0.7036,
           0.5083,
           0.6593,
           1,
           0.6591,
           -0.3874,
           null,
           -0.7372
          ],
          [
           null,
           0.7239,
           null,
           -0.6423,
           0.9095,
           0.9196,
           0.9468,
           0.6591,
           1,
           -0.6992,
           0.4763,
           -0.9678
          ],
          [
           null,
           -0.981,
           null,
           0.6352,
           -0.7296,
           -0.8105,
           -0.8314,
           -0.3874,
           -0.6992,
           1,
           -0.4142,
           0.7609
          ],
          [
           null,
           0.4093,
           -0.8192,
           -0.8237,
           0.4209,
           0.3953,
           0.4488,
           null,
           0.4763,
           -0.4142,
           1,
           -0.3796
          ],
          [
           null,
           -0.7887,
           null,
           0.5765,
           -0.9451,
           -0.9504,
           -0.9773,
           -0.7372,
           -0.9678,
           0.7609,
           -0.3796,
           1
          ]
         ],
         "zmax": 1,
         "zmin": -1
        },
        {
         "colorscale": [
          [
           0,
           "rgb(5,48,97)"
          ],
          [
           0.1,
           "rgb(33,102,172)"
          ],
          [
           0.2,
           "rgb(67,147,195)"
          ],
          [
           0.3,
           "rgb(146,197,222)"
          ],
          [
           0.4,
           "rgb(209,229,240)"
          ],
          [
           0.5,
           "rgb(247,247,247)"
          ],
          [
           0.6,
           "rgb(253,219,199)"
          ],
          [
           0.7,
           "rgb(244,165,130)"
          ],
          [
           0.8,
           "rgb(214,96,77)"
          ],
          [
           0.9,
           "rgb(178,24,43)"
          ],
          [
           1,
           "rgb(103,0,31)"
          ]
         ],
         "hovertemplate": "Variable X: %{x}<br>Variable Y: %{y}<br>Correlation: %{text}<br><extra></extra>",
         "showscale": false,
         "text": {
          "bdata": "AAAAAAAA8D/hehSuR+HKPwrXo3A9Cre/AAAAAAAA0L97FK5H4XqUvwrXo3A9Csc/MzMzMzMzwz8pXI/C9Si8v3sUrkfhepQ/rkfhehSu17+kcD0K16PAP3sUrkfherS/4XoUrkfhyj8AAAAAAADwPwrXo3A9Csc/SOF6FK5H0b+kcD0K16PoPzMzMzMzM+s/MzMzMzMz6z+kcD0K16PgP1yPwvUoXOc/CtejcD0K7797FK5H4XqkP+F6FK5H4eq/CtejcD0Kt78K16NwPQrHPwAAAAAAAPA/CtejcD0K5z97FK5H4XqUv5qZmZmZmak/uB6F61G4rj8pXI/C9SjMPwrXo3A9Cre/UrgehetRyL8UrkfhehTuvwrXo3A9Cre/AAAAAAAA0L9I4XoUrkfRvwrXo3A9Cuc/AAAAAAAA8D+amZmZmZnZv4XrUbgehdu/AAAAAAAA4L8pXI/C9Si8v+xRuB6F6+G/16NwPQrX0z8fhetRuB7tvxSuR+F6FN4/exSuR+F6lL+kcD0K16PoP3sUrkfhepS/mpmZmZmZ2b8AAAAAAADwPzMzMzMzM+s/cT0K16Nw7T9SuB6F61HoP83MzMzMzOw/uB6F61G45r+amZmZmZnJP2ZmZmZmZu6/CtejcD0Kxz8zMzMzMzPrP5qZmZmZmak/hetRuB6F278zMzMzMzPrPwAAAAAAAPA/CtejcD0K7z+F61G4HoXbP83MzMzMzOw/4XoUrkfh6r8K16NwPQrHP7gehetRuO6/MzMzMzMzwz8zMzMzMzPrP7gehetRuK4/AAAAAAAA4L9xPQrXo3DtPwrXo3A9Cu8/AAAAAAAA8D9mZmZmZmbmP8P1KFyPwu0/j8L1KFyP6r8K16NwPQrHP65H4XoUru+/KVyPwvUovL+kcD0K16PgPylcj8L1KMw/KVyPwvUovL9SuB6F61HoP4XrUbgehds/ZmZmZmZm5j8AAAAAAADwP4XrUbgeheM/KVyPwvUo3L/sUbgeheuxvwrXo3A9Cue/exSuR+F6lD9cj8L1KFznPwrXo3A9Cre/7FG4HoXr4b/NzMzMzMzsP83MzMzMzOw/w/UoXI/C7T+F61G4HoXjPwAAAAAAAPA/FK5H4XoU5r8fhetRuB7VP2ZmZmZmZu6/rkfhehSu178K16NwPQrvv1K4HoXrUci/16NwPQrX0z+4HoXrUbjmv+F6FK5H4eq/j8L1KFyP6r8pXI/C9SjcvxSuR+F6FOa/AAAAAAAA8D97FK5H4XqUv5qZmZmZmek/pHA9CtejwD97FK5H4XqkPxSuR+F6FO6/H4XrUbge7b+amZmZmZnJPwrXo3A9Csc/CtejcD0Kxz/sUbgeheuxvx+F61G4HtU/exSuR+F6lL8AAAAAAADwPzMzMzMzM8O/exSuR+F6tL/hehSuR+HqvwrXo3A9Cre/FK5H4XoU3j9mZmZmZmbuv7gehetRuO6/rkfhehSu778K16NwPQrnv2ZmZmZmZu6/mpmZmZmZ6T8zMzMzMzPDvwAAAAAAAPA/",
          "dtype": "f8",
          "shape": "12, 12"
         },
         "textfont": {
          "size": 10
         },
         "texttemplate": "%{text}",
         "type": "heatmap",
         "x": [
          "pre_A4B2",
          "pre_M1",
          "pre_D1",
          "pre_D2",
          "pre_5HT1a",
          "pre_5HT1b",
          "pre_5HT2a",
          "pre_5HT4",
          "pre_5HT6",
          "post_VAChT",
          "post_DAT",
          "post_5HTT"
         ],
         "xaxis": "x2",
         "y": [
          "pre_A4B2",
          "pre_M1",
          "pre_D1",
          "pre_D2",
          "pre_5HT1a",
          "pre_5HT1b",
          "pre_5HT2a",
          "pre_5HT4",
          "pre_5HT6",
          "post_VAChT",
          "post_DAT",
          "post_5HTT"
         ],
         "yaxis": "y2",
         "z": [
          [
           1,
           null,
           null,
           null,
           null,
           null,
           null,
           null,
           null,
           null,
           null,
           null
          ],
          [
           null,
           1,
           null,
           null,
           0.7737,
           0.8498,
           0.8528,
           0.5188,
           0.7263,
           -0.9743,
           null,
           -0.836
          ],
          [
           null,
           null,
           1,
           0.7226,
           null,
           null,
           null,
           null,
           null,
           null,
           -0.9426,
           null
          ],
          [
           null,
           null,
           0.7226,
           1,
           null,
           null,
           -0.504,
           null,
           -0.5632,
           null,
           -0.9115,
           0.4704
          ],
          [
           null,
           0.7737,
           null,
           null,
           1,
           0.8518,
           0.916,
           0.7638,
           0.8982,
           -0.7105,
           null,
           -0.9466
          ],
          [
           null,
           0.8498,
           null,
           null,
           0.8518,
           1,
           0.9713,
           null,
           0.8992,
           -0.836,
           null,
           -0.9565
          ],
          [
           null,
           0.8528,
           null,
           -0.504,
           0.916,
           0.9713,
           1,
           0.6966,
           0.9259,
           -0.8271,
           null,
           -0.9872
          ],
          [
           null,
           0.5188,
           null,
           null,
           0.7638,
           null,
           0.6966,
           1,
           0.6097,
           null,
           null,
           -0.7243
          ],
          [
           null,
           0.7263,
           null,
           -0.5632,
           0.8982,
           0.8992,
           0.9259,
           0.6097,
           1,
           -0.6887,
           null,
           -0.9466
          ],
          [
           null,
           -0.9743,
           null,
           null,
           -0.7105,
           -0.836,
           -0.8271,
           null,
           -0.6887,
           1,
           null,
           0.7974
          ],
          [
           null,
           null,
           -0.9426,
           -0.9115,
           null,
           null,
           null,
           null,
           null,
           null,
           1,
           null
          ],
          [
           null,
           -0.836,
           null,
           0.4704,
           -0.9466,
           -0.9565,
           -0.9872,
           -0.7243,
           -0.9466,
           0.7974,
           null,
           1
          ]
         ],
         "zmax": 1,
         "zmin": -1
        },
        {
         "colorscale": [
          [
           0,
           "rgb(5,48,97)"
          ],
          [
           0.1,
           "rgb(33,102,172)"
          ],
          [
           0.2,
           "rgb(67,147,195)"
          ],
          [
           0.3,
           "rgb(146,197,222)"
          ],
          [
           0.4,
           "rgb(209,229,240)"
          ],
          [
           0.5,
           "rgb(247,247,247)"
          ],
          [
           0.6,
           "rgb(253,219,199)"
          ],
          [
           0.7,
           "rgb(244,165,130)"
          ],
          [
           0.8,
           "rgb(214,96,77)"
          ],
          [
           0.9,
           "rgb(178,24,43)"
          ],
          [
           1,
           "rgb(103,0,31)"
          ]
         ],
         "hovertemplate": "Variable X: %{x}<br>Variable Y: %{y}<br>Correlation: %{text}<br><extra></extra>",
         "showscale": true,
         "text": {
          "bdata": "AAAAAAAA8D/Xo3A9CtfTP6RwPQrXo+i/j8L1KFyP0r9I4XoUrkfRP3sUrkfheoS/pHA9CtejwD97FK5H4Xq0v+xRuB6F67E/CtejcD0K17+4HoXrUbjePwrXo3A9Cre/16NwPQrX0z8AAAAAAADwP3sUrkfhetS/FK5H4XoU7r8pXI/C9SjsPzMzMzMzM+s/4XoUrkfh6j8pXI/C9SjMP+F6FK5H4eo/rkfhehSu77/hehSuR+HqP+xRuB6F6+m/pHA9Ctej6L97FK5H4XrUvwAAAAAAAPA/CtejcD0K1z/2KFyPwvXgv7gehetRuM6/4XoUrkfh2r/sUbgeheuxvx+F61G4HtW/ZmZmZmZm1j/D9Shcj8Llv65H4XoUrtc/j8L1KFyP0r8UrkfhehTuvwrXo3A9Ctc/AAAAAAAA8D8AAAAAAADov65H4XoUrue/7FG4HoXr6b8AAAAAAAAAgLgehetRuOa/ZmZmZmZm7j8fhetRuB7tv3E9CtejcOU/SOF6FK5H0T8pXI/C9SjsP/YoXI/C9eC/AAAAAAAA6L8AAAAAAADwPx+F61G4Hu0/ZmZmZmZm7j/sUbgehevhP7gehetRuO4/SOF6FK5H6b9SuB6F61HoP2ZmZmZmZu6/exSuR+F6hL8zMzMzMzPrP7gehetRuM6/rkfhehSu578fhetRuB7tPwAAAAAAAPA/ZmZmZmZm7j+F61G4HoXjPwrXo3A9Cu8/j8L1KFyP6r+uR+F6FK7nPwrXo3A9Cu+/pHA9CtejwD/hehSuR+HqP+F6FK5H4dq/7FG4HoXr6b9mZmZmZmbuP2ZmZmZmZu4/AAAAAAAA8D/NzMzMzMzkP7gehetRuO4/j8L1KFyP6r/2KFyPwvXoP2ZmZmZmZu6/exSuR+F6tL8pXI/C9SjMP+xRuB6F67G/AAAAAAAAAIDsUbgehevhP4XrUbgeheM/zczMzMzM5D8AAAAAAADwP3E9CtejcOU/mpmZmZmZ2b+kcD0K16PQPwrXo3A9Cue/7FG4HoXrsT/hehSuR+HqPx+F61G4HtW/uB6F61G45r+4HoXrUbjuPwrXo3A9Cu8/uB6F61G47j9xPQrXo3DlPwAAAAAAAPA/SOF6FK5H6b9mZmZmZmbmP65H4XoUru+/CtejcD0K17+uR+F6FK7vv2ZmZmZmZtY/ZmZmZmZm7j9I4XoUrkfpv4/C9Shcj+q/j8L1KFyP6r+amZmZmZnZv0jhehSuR+m/AAAAAAAA8D/hehSuR+Hqv65H4XoUruc/uB6F61G43j/hehSuR+HqP8P1KFyPwuW/H4XrUbge7b9SuB6F61HoP65H4XoUruc/9ihcj8L16D+kcD0K16PQP2ZmZmZmZuY/4XoUrkfh6r8AAAAAAADwPx+F61G4HuW/CtejcD0Kt7/sUbgehevpv65H4XoUrtc/cT0K16Nw5T9mZmZmZmbuvwrXo3A9Cu+/ZmZmZmZm7r8K16NwPQrnv65H4XoUru+/rkfhehSu5z8fhetRuB7lvwAAAAAAAPA/",
          "dtype": "f8",
          "shape": "12, 12"
         },
         "textfont": {
          "size": 10
         },
         "texttemplate": "%{text}",
         "type": "heatmap",
         "x": [
          "pre_A4B2",
          "pre_M1",
          "pre_D1",
          "pre_D2",
          "pre_5HT1a",
          "pre_5HT1b",
          "pre_5HT2a",
          "pre_5HT4",
          "pre_5HT6",
          "post_VAChT",
          "post_DAT",
          "post_5HTT"
         ],
         "xaxis": "x3",
         "y": [
          "pre_A4B2",
          "pre_M1",
          "pre_D1",
          "pre_D2",
          "pre_5HT1a",
          "pre_5HT1b",
          "pre_5HT2a",
          "pre_5HT4",
          "pre_5HT6",
          "post_VAChT",
          "post_DAT",
          "post_5HTT"
         ],
         "yaxis": "y3",
         "z": [
          [
           1,
           null,
           -0.7714,
           null,
           null,
           null,
           null,
           null,
           null,
           null,
           null,
           null
          ],
          [
           null,
           1,
           null,
           -0.9378,
           0.881,
           0.8546,
           0.8357,
           null,
           0.8436,
           -0.9929,
           0.8393,
           -0.8144
          ],
          [
           -0.7714,
           null,
           1,
           null,
           null,
           null,
           null,
           null,
           null,
           null,
           -0.675,
           null
          ],
          [
           null,
           -0.9378,
           null,
           1,
           -0.7543,
           -0.7376,
           -0.8071,
           null,
           -0.7053,
           0.9464,
           -0.9071,
           0.671
          ],
          [
           null,
           0.881,
           null,
           -0.7543,
           1,
           0.9064,
           0.9536,
           0.5612,
           0.9607,
           -0.7857,
           0.7571,
           -0.9508
          ],
          [
           null,
           0.8546,
           null,
           -0.7376,
           0.9064,
           1,
           0.9464,
           0.6067,
           0.9748,
           -0.8321,
           0.7393,
           -0.9733
          ],
          [
           null,
           0.8357,
           null,
           -0.8071,
           0.9536,
           0.9464,
           1,
           0.65,
           0.9643,
           -0.8321,
           0.775,
           -0.9464
          ],
          [
           null,
           null,
           null,
           null,
           0.5612,
           0.6067,
           0.65,
           1,
           0.6652,
           null,
           null,
           -0.716
          ],
          [
           null,
           0.8436,
           null,
           -0.7053,
           0.9607,
           0.9748,
           0.9643,
           0.6652,
           1,
           -0.7893,
           0.6964,
           -0.9948
          ],
          [
           null,
           -0.9929,
           null,
           0.9464,
           -0.7857,
           -0.8321,
           -0.8321,
           null,
           -0.7893,
           1,
           -0.8429,
           0.7429
          ],
          [
           null,
           0.8393,
           -0.675,
           -0.9071,
           0.7571,
           0.7393,
           0.775,
           null,
           0.6964,
           -0.8429,
           1,
           -0.6643
          ],
          [
           null,
           -0.8144,
           null,
           0.671,
           -0.9508,
           -0.9733,
           -0.9464,
           -0.716,
           -0.9948,
           0.7429,
           -0.6643,
           1
          ]
         ],
         "zmax": 1,
         "zmin": -1
        }
       ],
       "layout": {
        "annotations": [
         {
          "font": {
           "size": 10
          },
          "showarrow": false,
          "text": "All Subjects",
          "x": 0.13333333333333333,
          "xanchor": "center",
          "xref": "paper",
          "y": 1,
          "yanchor": "bottom",
          "yref": "paper"
         },
         {
          "font": {
           "size": 10
          },
          "showarrow": false,
          "text": "Men Only",
          "x": 0.5,
          "xanchor": "center",
          "xref": "paper",
          "y": 1,
          "yanchor": "bottom",
          "yref": "paper"
         },
         {
          "font": {
           "size": 10
          },
          "showarrow": false,
          "text": "Women Only",
          "x": 0.8666666666666667,
          "xanchor": "center",
          "xref": "paper",
          "y": 1,
          "yanchor": "bottom",
          "yref": "paper"
         }
        ],
        "height": 550,
        "margin": {
         "b": 120,
         "l": 80,
         "r": 80,
         "t": 80
        },
        "showlegend": false,
        "template": {
         "data": {
          "bar": [
           {
            "error_x": {
             "color": "#2a3f5f"
            },
            "error_y": {
             "color": "#2a3f5f"
            },
            "marker": {
             "line": {
              "color": "#E5ECF6",
              "width": 0.5
             },
             "pattern": {
              "fillmode": "overlay",
              "size": 10,
              "solidity": 0.2
             }
            },
            "type": "bar"
           }
          ],
          "barpolar": [
           {
            "marker": {
             "line": {
              "color": "#E5ECF6",
              "width": 0.5
             },
             "pattern": {
              "fillmode": "overlay",
              "size": 10,
              "solidity": 0.2
             }
            },
            "type": "barpolar"
           }
          ],
          "carpet": [
           {
            "aaxis": {
             "endlinecolor": "#2a3f5f",
             "gridcolor": "white",
             "linecolor": "white",
             "minorgridcolor": "white",
             "startlinecolor": "#2a3f5f"
            },
            "baxis": {
             "endlinecolor": "#2a3f5f",
             "gridcolor": "white",
             "linecolor": "white",
             "minorgridcolor": "white",
             "startlinecolor": "#2a3f5f"
            },
            "type": "carpet"
           }
          ],
          "choropleth": [
           {
            "colorbar": {
             "outlinewidth": 0,
             "ticks": ""
            },
            "type": "choropleth"
           }
          ],
          "contour": [
           {
            "colorbar": {
             "outlinewidth": 0,
             "ticks": ""
            },
            "colorscale": [
             [
              0,
              "#0d0887"
             ],
             [
              0.1111111111111111,
              "#46039f"
             ],
             [
              0.2222222222222222,
              "#7201a8"
             ],
             [
              0.3333333333333333,
              "#9c179e"
             ],
             [
              0.4444444444444444,
              "#bd3786"
             ],
             [
              0.5555555555555556,
              "#d8576b"
             ],
             [
              0.6666666666666666,
              "#ed7953"
             ],
             [
              0.7777777777777778,
              "#fb9f3a"
             ],
             [
              0.8888888888888888,
              "#fdca26"
             ],
             [
              1,
              "#f0f921"
             ]
            ],
            "type": "contour"
           }
          ],
          "contourcarpet": [
           {
            "colorbar": {
             "outlinewidth": 0,
             "ticks": ""
            },
            "type": "contourcarpet"
           }
          ],
          "heatmap": [
           {
            "colorbar": {
             "outlinewidth": 0,
             "ticks": ""
            },
            "colorscale": [
             [
              0,
              "#0d0887"
             ],
             [
              0.1111111111111111,
              "#46039f"
             ],
             [
              0.2222222222222222,
              "#7201a8"
             ],
             [
              0.3333333333333333,
              "#9c179e"
             ],
             [
              0.4444444444444444,
              "#bd3786"
             ],
             [
              0.5555555555555556,
              "#d8576b"
             ],
             [
              0.6666666666666666,
              "#ed7953"
             ],
             [
              0.7777777777777778,
              "#fb9f3a"
             ],
             [
              0.8888888888888888,
              "#fdca26"
             ],
             [
              1,
              "#f0f921"
             ]
            ],
            "type": "heatmap"
           }
          ],
          "histogram": [
           {
            "marker": {
             "pattern": {
              "fillmode": "overlay",
              "size": 10,
              "solidity": 0.2
             }
            },
            "type": "histogram"
           }
          ],
          "histogram2d": [
           {
            "colorbar": {
             "outlinewidth": 0,
             "ticks": ""
            },
            "colorscale": [
             [
              0,
              "#0d0887"
             ],
             [
              0.1111111111111111,
              "#46039f"
             ],
             [
              0.2222222222222222,
              "#7201a8"
             ],
             [
              0.3333333333333333,
              "#9c179e"
             ],
             [
              0.4444444444444444,
              "#bd3786"
             ],
             [
              0.5555555555555556,
              "#d8576b"
             ],
             [
              0.6666666666666666,
              "#ed7953"
             ],
             [
              0.7777777777777778,
              "#fb9f3a"
             ],
             [
              0.8888888888888888,
              "#fdca26"
             ],
             [
              1,
              "#f0f921"
             ]
            ],
            "type": "histogram2d"
           }
          ],
          "histogram2dcontour": [
           {
            "colorbar": {
             "outlinewidth": 0,
             "ticks": ""
            },
            "colorscale": [
             [
              0,
              "#0d0887"
             ],
             [
              0.1111111111111111,
              "#46039f"
             ],
             [
              0.2222222222222222,
              "#7201a8"
             ],
             [
              0.3333333333333333,
              "#9c179e"
             ],
             [
              0.4444444444444444,
              "#bd3786"
             ],
             [
              0.5555555555555556,
              "#d8576b"
             ],
             [
              0.6666666666666666,
              "#ed7953"
             ],
             [
              0.7777777777777778,
              "#fb9f3a"
             ],
             [
              0.8888888888888888,
              "#fdca26"
             ],
             [
              1,
              "#f0f921"
             ]
            ],
            "type": "histogram2dcontour"
           }
          ],
          "mesh3d": [
           {
            "colorbar": {
             "outlinewidth": 0,
             "ticks": ""
            },
            "type": "mesh3d"
           }
          ],
          "parcoords": [
           {
            "line": {
             "colorbar": {
              "outlinewidth": 0,
              "ticks": ""
             }
            },
            "type": "parcoords"
           }
          ],
          "pie": [
           {
            "automargin": true,
            "type": "pie"
           }
          ],
          "scatter": [
           {
            "fillpattern": {
             "fillmode": "overlay",
             "size": 10,
             "solidity": 0.2
            },
            "type": "scatter"
           }
          ],
          "scatter3d": [
           {
            "line": {
             "colorbar": {
              "outlinewidth": 0,
              "ticks": ""
             }
            },
            "marker": {
             "colorbar": {
              "outlinewidth": 0,
              "ticks": ""
             }
            },
            "type": "scatter3d"
           }
          ],
          "scattercarpet": [
           {
            "marker": {
             "colorbar": {
              "outlinewidth": 0,
              "ticks": ""
             }
            },
            "type": "scattercarpet"
           }
          ],
          "scattergeo": [
           {
            "marker": {
             "colorbar": {
              "outlinewidth": 0,
              "ticks": ""
             }
            },
            "type": "scattergeo"
           }
          ],
          "scattergl": [
           {
            "marker": {
             "colorbar": {
              "outlinewidth": 0,
              "ticks": ""
             }
            },
            "type": "scattergl"
           }
          ],
          "scattermap": [
           {
            "marker": {
             "colorbar": {
              "outlinewidth": 0,
              "ticks": ""
             }
            },
            "type": "scattermap"
           }
          ],
          "scattermapbox": [
           {
            "marker": {
             "colorbar": {
              "outlinewidth": 0,
              "ticks": ""
             }
            },
            "type": "scattermapbox"
           }
          ],
          "scatterpolar": [
           {
            "marker": {
             "colorbar": {
              "outlinewidth": 0,
              "ticks": ""
             }
            },
            "type": "scatterpolar"
           }
          ],
          "scatterpolargl": [
           {
            "marker": {
             "colorbar": {
              "outlinewidth": 0,
              "ticks": ""
             }
            },
            "type": "scatterpolargl"
           }
          ],
          "scatterternary": [
           {
            "marker": {
             "colorbar": {
              "outlinewidth": 0,
              "ticks": ""
             }
            },
            "type": "scatterternary"
           }
          ],
          "surface": [
           {
            "colorbar": {
             "outlinewidth": 0,
             "ticks": ""
            },
            "colorscale": [
             [
              0,
              "#0d0887"
             ],
             [
              0.1111111111111111,
              "#46039f"
             ],
             [
              0.2222222222222222,
              "#7201a8"
             ],
             [
              0.3333333333333333,
              "#9c179e"
             ],
             [
              0.4444444444444444,
              "#bd3786"
             ],
             [
              0.5555555555555556,
              "#d8576b"
             ],
             [
              0.6666666666666666,
              "#ed7953"
             ],
             [
              0.7777777777777778,
              "#fb9f3a"
             ],
             [
              0.8888888888888888,
              "#fdca26"
             ],
             [
              1,
              "#f0f921"
             ]
            ],
            "type": "surface"
           }
          ],
          "table": [
           {
            "cells": {
             "fill": {
              "color": "#EBF0F8"
             },
             "line": {
              "color": "white"
             }
            },
            "header": {
             "fill": {
              "color": "#C8D4E3"
             },
             "line": {
              "color": "white"
             }
            },
            "type": "table"
           }
          ]
         },
         "layout": {
          "annotationdefaults": {
           "arrowcolor": "#2a3f5f",
           "arrowhead": 0,
           "arrowwidth": 1
          },
          "autotypenumbers": "strict",
          "coloraxis": {
           "colorbar": {
            "outlinewidth": 0,
            "ticks": ""
           }
          },
          "colorscale": {
           "diverging": [
            [
             0,
             "#8e0152"
            ],
            [
             0.1,
             "#c51b7d"
            ],
            [
             0.2,
             "#de77ae"
            ],
            [
             0.3,
             "#f1b6da"
            ],
            [
             0.4,
             "#fde0ef"
            ],
            [
             0.5,
             "#f7f7f7"
            ],
            [
             0.6,
             "#e6f5d0"
            ],
            [
             0.7,
             "#b8e186"
            ],
            [
             0.8,
             "#7fbc41"
            ],
            [
             0.9,
             "#4d9221"
            ],
            [
             1,
             "#276419"
            ]
           ],
           "sequential": [
            [
             0,
             "#0d0887"
            ],
            [
             0.1111111111111111,
             "#46039f"
            ],
            [
             0.2222222222222222,
             "#7201a8"
            ],
            [
             0.3333333333333333,
             "#9c179e"
            ],
            [
             0.4444444444444444,
             "#bd3786"
            ],
            [
             0.5555555555555556,
             "#d8576b"
            ],
            [
             0.6666666666666666,
             "#ed7953"
            ],
            [
             0.7777777777777778,
             "#fb9f3a"
            ],
            [
             0.8888888888888888,
             "#fdca26"
            ],
            [
             1,
             "#f0f921"
            ]
           ],
           "sequentialminus": [
            [
             0,
             "#0d0887"
            ],
            [
             0.1111111111111111,
             "#46039f"
            ],
            [
             0.2222222222222222,
             "#7201a8"
            ],
            [
             0.3333333333333333,
             "#9c179e"
            ],
            [
             0.4444444444444444,
             "#bd3786"
            ],
            [
             0.5555555555555556,
             "#d8576b"
            ],
            [
             0.6666666666666666,
             "#ed7953"
            ],
            [
             0.7777777777777778,
             "#fb9f3a"
            ],
            [
             0.8888888888888888,
             "#fdca26"
            ],
            [
             1,
             "#f0f921"
            ]
           ]
          },
          "colorway": [
           "#636efa",
           "#EF553B",
           "#00cc96",
           "#ab63fa",
           "#FFA15A",
           "#19d3f3",
           "#FF6692",
           "#B6E880",
           "#FF97FF",
           "#FECB52"
          ],
          "font": {
           "color": "#2a3f5f"
          },
          "geo": {
           "bgcolor": "white",
           "lakecolor": "white",
           "landcolor": "#E5ECF6",
           "showlakes": true,
           "showland": true,
           "subunitcolor": "white"
          },
          "hoverlabel": {
           "align": "left"
          },
          "hovermode": "closest",
          "mapbox": {
           "style": "light"
          },
          "paper_bgcolor": "white",
          "plot_bgcolor": "#E5ECF6",
          "polar": {
           "angularaxis": {
            "gridcolor": "white",
            "linecolor": "white",
            "ticks": ""
           },
           "bgcolor": "#E5ECF6",
           "radialaxis": {
            "gridcolor": "white",
            "linecolor": "white",
            "ticks": ""
           }
          },
          "scene": {
           "xaxis": {
            "backgroundcolor": "#E5ECF6",
            "gridcolor": "white",
            "gridwidth": 2,
            "linecolor": "white",
            "showbackground": true,
            "ticks": "",
            "zerolinecolor": "white"
           },
           "yaxis": {
            "backgroundcolor": "#E5ECF6",
            "gridcolor": "white",
            "gridwidth": 2,
            "linecolor": "white",
            "showbackground": true,
            "ticks": "",
            "zerolinecolor": "white"
           },
           "zaxis": {
            "backgroundcolor": "#E5ECF6",
            "gridcolor": "white",
            "gridwidth": 2,
            "linecolor": "white",
            "showbackground": true,
            "ticks": "",
            "zerolinecolor": "white"
           }
          },
          "shapedefaults": {
           "line": {
            "color": "#2a3f5f"
           }
          },
          "ternary": {
           "aaxis": {
            "gridcolor": "white",
            "linecolor": "white",
            "ticks": ""
           },
           "baxis": {
            "gridcolor": "white",
            "linecolor": "white",
            "ticks": ""
           },
           "bgcolor": "#E5ECF6",
           "caxis": {
            "gridcolor": "white",
            "linecolor": "white",
            "ticks": ""
           }
          },
          "title": {
           "x": 0.05
          },
          "xaxis": {
           "automargin": true,
           "gridcolor": "white",
           "linecolor": "white",
           "ticks": "",
           "title": {
            "standoff": 15
           },
           "zerolinecolor": "white",
           "zerolinewidth": 2
          },
          "yaxis": {
           "automargin": true,
           "gridcolor": "white",
           "linecolor": "white",
           "ticks": "",
           "title": {
            "standoff": 15
           },
           "zerolinecolor": "white",
           "zerolinewidth": 2
          }
         }
        },
        "title": {
         "font": {
          "size": 14
         },
         "text": "Session V1 - Synaptic ratio<br><sub>p-value threshold: 0.050</sub>",
         "x": 0.5,
         "xanchor": "center"
        },
        "width": 1300,
        "xaxis": {
         "anchor": "y",
         "domain": [
          0,
          0.26666666666666666
         ],
         "showgrid": false,
         "side": "bottom",
         "tickangle": -45,
         "tickfont": {
          "size": 8
         }
        },
        "xaxis2": {
         "anchor": "y2",
         "domain": [
          0.3666666666666667,
          0.6333333333333333
         ],
         "showgrid": false,
         "side": "bottom",
         "tickangle": -45,
         "tickfont": {
          "size": 8
         }
        },
        "xaxis3": {
         "anchor": "y3",
         "domain": [
          0.7333333333333334,
          1
         ],
         "showgrid": false,
         "side": "bottom",
         "tickangle": -45,
         "tickfont": {
          "size": 8
         }
        },
        "yaxis": {
         "anchor": "x",
         "autorange": "reversed",
         "domain": [
          0,
          1
         ],
         "showgrid": false,
         "tickfont": {
          "size": 8
         }
        },
        "yaxis2": {
         "anchor": "x2",
         "autorange": "reversed",
         "domain": [
          0,
          1
         ],
         "showgrid": false,
         "tickfont": {
          "size": 8
         }
        },
        "yaxis3": {
         "anchor": "x3",
         "autorange": "reversed",
         "domain": [
          0,
          1
         ],
         "showgrid": false,
         "tickfont": {
          "size": 8
         }
        }
       }
      }
     },
     "metadata": {},
     "output_type": "display_data"
    },
    {
     "data": {
      "application/vnd.jupyter.widget-view+json": {
       "model_id": "c14d37dfa5bd48ecaad1286d4dd83b4d",
       "version_major": 2,
       "version_minor": 0
      },
      "text/plain": [
       "VBox(children=(HTML(value='<h3>Session V1 - Synaptic ratio</h3>'), HTML(value=\"<hr style='margin: 10px 0;'>\"),…"
      ]
     },
     "execution_count": 4,
     "metadata": {},
     "output_type": "execute_result"
    }
   ],
   "source": [
    "#| label: fig3cell\n",
    "\n",
    "from Dash_client import DashNeuroTmapClient\n",
    "import plotly.io as pio\n",
    "pio.renderers.default = \"plotly_mimetype\"\n",
    "\n",
    "client = DashNeuroTmapClient(dash_url=\"https://stroke-dashboard.onrender.com\")\n",
    "client.create_interactive_correlation_viewer(\n",
    "    session='V1',\n",
    "    system_type='Synaptic ratio'\n",
    ")\n",
    "\n",
    "#The following line enables the dropdown options.\n",
    "#client.create_correlation_interface()"
   ]
  }
 ],
 "metadata": {
  "kernelspec": {
   "display_name": "AVC",
   "language": "python",
   "name": "python3"
  },
  "language_info": {
   "codemirror_mode": {
    "name": "ipython",
    "version": 3
   },
   "file_extension": ".py",
   "mimetype": "text/x-python",
   "name": "python",
   "nbconvert_exporter": "python",
   "pygments_lexer": "ipython3",
   "version": "3.12.1"
  }
 },
 "nbformat": 4,
 "nbformat_minor": 5
}
