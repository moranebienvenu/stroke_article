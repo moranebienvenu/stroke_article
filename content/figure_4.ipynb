{
 "cells": [
  {
   "cell_type": "code",
   "execution_count": null,
   "metadata": {},
   "outputs": [
    {
     "name": "stdout",
     "output_type": "stream",
     "text": [
      "Error: HTTPSConnectionPool(host='stroke-dashboard.onrender.com', port=443): Read timed out. (read timeout=10)\n",
      "Cannot create interface: no subjects data available\n"
     ]
    }
   ],
   "source": [
    "#| label: fig4cell\n",
    "from Dash_client import DashNeuroTmapClient\n",
    "import plotly.io as pio\n",
    "pio.renderers.default = \"plotly_mimetype\"\n",
    "\n",
    "client = DashNeuroTmapClient(dash_url=\"https://stroke-dashboard.onrender.com\")\n",
    "fig4 = client.create_interactive_correlation_interface_auto()\n",
    "\n",
    "# Pour MyST, affichez simplement la figure\n",
    "fig4"
   ]
  }
 ],
 "metadata": {
  "kernelspec": {
   "display_name": "AVC",
   "language": "python",
   "name": "python3"
  },
  "language_info": {
   "codemirror_mode": {
    "name": "ipython",
    "version": 3
   },
   "file_extension": ".py",
   "mimetype": "text/x-python",
   "name": "python",
   "nbconvert_exporter": "python",
   "pygments_lexer": "ipython3",
   "version": "3.12.1"
  }
 },
 "nbformat": 4,
 "nbformat_minor": 2
}
