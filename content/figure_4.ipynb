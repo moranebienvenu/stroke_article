{
 "cells": [
  {
   "cell_type": "code",
   "execution_count": null,
   "metadata": {},
   "outputs": [],
   "source": [
    "#| label: fig5cell\n",
    "from Dash_client import DashNeuroTmapClient\n",
    "import plotly.io as pio\n",
    "pio.renderers.default = \"plotly_mimetype\"\n",
    "\n",
    "client = DashNeuroTmapClient(dash_url=\"https://stroke-dashboard.onrender.com\")\n",
    "\n",
    "# The function now returns the widget container which will be saved as cell output\n",
    "client.create_interactive_correlation_interface_auto()"
   ]
  }
 ],
 "metadata": {
  "kernelspec": {
   "display_name": "AVC",
   "language": "python",
   "name": "python3"
  },
  "language_info": {
   "codemirror_mode": {
    "name": "ipython",
    "version": 3
   },
   "file_extension": ".py",
   "mimetype": "text/x-python",
   "name": "python",
   "nbconvert_exporter": "python",
   "pygments_lexer": "ipython3",
   "version": "3.12.1"
  }
 },
 "nbformat": 4,
 "nbformat_minor": 2
}
